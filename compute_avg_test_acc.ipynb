{
 "metadata": {
  "language_info": {
   "codemirror_mode": {
    "name": "ipython",
    "version": 3
   },
   "file_extension": ".py",
   "mimetype": "text/x-python",
   "name": "python",
   "nbconvert_exporter": "python",
   "pygments_lexer": "ipython3",
   "version": "3.8.5"
  },
  "orig_nbformat": 4,
  "kernelspec": {
   "name": "python3",
   "display_name": "Python 3.8.5 64-bit ('base': conda)"
  },
  "interpreter": {
   "hash": "e421a1a8af5646f87d70a17bfa270bba6d5d537d21c369f9130f585305a91d93"
  }
 },
 "nbformat": 4,
 "nbformat_minor": 2,
 "cells": [
  {
   "cell_type": "code",
   "execution_count": 1,
   "metadata": {},
   "outputs": [
    {
     "output_type": "execute_result",
     "data": {
      "text/plain": [
       "['/home/surya/Documents/Projects/FedWeIT/scripts/outputs/logs/20210706-0438-fedweit-non_iid_50/client-1.txt',\n",
       " '/home/surya/Documents/Projects/FedWeIT/scripts/outputs/logs/20210706-0438-fedweit-non_iid_50/client-4.txt',\n",
       " '/home/surya/Documents/Projects/FedWeIT/scripts/outputs/logs/20210706-0438-fedweit-non_iid_50/client-0.txt',\n",
       " '/home/surya/Documents/Projects/FedWeIT/scripts/outputs/logs/20210706-0438-fedweit-non_iid_50/client-2.txt',\n",
       " '/home/surya/Documents/Projects/FedWeIT/scripts/outputs/logs/20210706-0438-fedweit-non_iid_50/client-3.txt']"
      ]
     },
     "metadata": {},
     "execution_count": 1
    }
   ],
   "source": [
    "import json\n",
    "import glob\n",
    "\n",
    "run = \"/home/surya/Documents/Projects/FedWeIT/scripts/outputs/logs/20210706-0438-fedweit-non_iid_50\"\n",
    "files = glob.glob(run + \"/*.txt\")\n",
    "files"
   ]
  },
  {
   "cell_type": "code",
   "execution_count": 6,
   "metadata": {},
   "outputs": [
    {
     "output_type": "stream",
     "name": "stdout",
     "text": [
      "0.8212766969203948\n"
     ]
    }
   ],
   "source": [
    "j = json.load(open(files[0], \"r\"))\n",
    "tasks = list(j['scores']['test_acc'].keys())\n",
    "acc_task = {k: 0 for k in tasks}\n",
    "\n",
    "    \n",
    "for f in files:\n",
    "    j = json.load(open(f, \"r\"))\n",
    "    for k, v in j['scores']['test_acc'].items():\n",
    "        acc_task[k] += v[-1] / len(tasks) / 5\n",
    "\n",
    "print(sum(acc_task.values()))"
   ]
  },
  {
   "cell_type": "code",
   "execution_count": 7,
   "metadata": {},
   "outputs": [
    {
     "output_type": "execute_result",
     "data": {
      "text/plain": [
       "{'0': 0.07906489372253418,\n",
       " '1': 0.0785934042930603,\n",
       " '2': 0.08576065421104431,\n",
       " '3': 0.07879546761512755,\n",
       " '4': 0.08907793521881104,\n",
       " '5': 0.08090553283691407,\n",
       " '6': 0.07656147241592406,\n",
       " '7': 0.08862703084945678,\n",
       " '8': 0.08055955052375793,\n",
       " '9': 0.08333075523376465}"
      ]
     },
     "metadata": {},
     "execution_count": 7
    }
   ],
   "source": [
    "acc_task"
   ]
  },
  {
   "cell_type": "code",
   "execution_count": null,
   "metadata": {},
   "outputs": [],
   "source": []
  }
 ]
}