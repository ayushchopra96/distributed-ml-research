{
 "metadata": {
  "language_info": {
   "codemirror_mode": {
    "name": "ipython",
    "version": 3
   },
   "file_extension": ".py",
   "mimetype": "text/x-python",
   "name": "python",
   "nbconvert_exporter": "python",
   "pygments_lexer": "ipython3",
   "version": "3.8.5"
  },
  "orig_nbformat": 4,
  "kernelspec": {
   "name": "python3",
   "display_name": "Python 3.8.5 64-bit ('base': conda)"
  },
  "interpreter": {
   "hash": "e421a1a8af5646f87d70a17bfa270bba6d5d537d21c369f9130f585305a91d93"
  }
 },
 "nbformat": 4,
 "nbformat_minor": 2,
 "cells": [
  {
   "cell_type": "code",
   "execution_count": 4,
   "metadata": {},
   "outputs": [],
   "source": [
    "import json\n",
    "import pandas as pd\n",
    "import plotly.express as px\n",
    "import plotly.graph_objects as go"
   ]
  },
  {
   "cell_type": "code",
   "execution_count": 5,
   "metadata": {},
   "outputs": [
    {
     "output_type": "execute_result",
     "data": {
      "text/plain": [
       "    SplitNN Accuracy  Interrupted Accuracy    Flops SplitNN  \\\n",
       "0             0.1000                0.1000    3929540772864   \n",
       "1             0.4258                0.1375    7859081545728   \n",
       "2             0.5100                0.2829   11788622318592   \n",
       "3             0.5421                0.3214   15718163091456   \n",
       "4             0.5251                0.4209   19647703864320   \n",
       "..               ...                   ...              ...   \n",
       "75            0.7392                0.6902  298645098737664   \n",
       "76            0.7516                0.7054  302574639510528   \n",
       "77            0.7708                0.6959  306504180283392   \n",
       "78            0.7644                0.7490  310433721056256   \n",
       "79            0.7666                0.6750  314363261829120   \n",
       "\n",
       "    Flops Interrupted         Time  Steps  \n",
       "0       3929540772864    74.127226    204  \n",
       "1       7859081545728   146.437868    408  \n",
       "2      11788622318592   219.355399    612  \n",
       "3      15718163091456   292.120897    816  \n",
       "4      19647703864320   364.308083   1020  \n",
       "..                ...          ...    ...  \n",
       "75    298645098737664  5302.079932  15504  \n",
       "76    302574639510528  5369.428892  15708  \n",
       "77    306504180283392  5437.127071  15912  \n",
       "78    310433721056256  5504.412837  16116  \n",
       "79    314363261829120  5572.203897  16320  \n",
       "\n",
       "[80 rows x 6 columns]"
      ],
      "text/html": "<div>\n<style scoped>\n    .dataframe tbody tr th:only-of-type {\n        vertical-align: middle;\n    }\n\n    .dataframe tbody tr th {\n        vertical-align: top;\n    }\n\n    .dataframe thead th {\n        text-align: right;\n    }\n</style>\n<table border=\"1\" class=\"dataframe\">\n  <thead>\n    <tr style=\"text-align: right;\">\n      <th></th>\n      <th>SplitNN Accuracy</th>\n      <th>Interrupted Accuracy</th>\n      <th>Flops SplitNN</th>\n      <th>Flops Interrupted</th>\n      <th>Time</th>\n      <th>Steps</th>\n    </tr>\n  </thead>\n  <tbody>\n    <tr>\n      <th>0</th>\n      <td>0.1000</td>\n      <td>0.1000</td>\n      <td>3929540772864</td>\n      <td>3929540772864</td>\n      <td>74.127226</td>\n      <td>204</td>\n    </tr>\n    <tr>\n      <th>1</th>\n      <td>0.4258</td>\n      <td>0.1375</td>\n      <td>7859081545728</td>\n      <td>7859081545728</td>\n      <td>146.437868</td>\n      <td>408</td>\n    </tr>\n    <tr>\n      <th>2</th>\n      <td>0.5100</td>\n      <td>0.2829</td>\n      <td>11788622318592</td>\n      <td>11788622318592</td>\n      <td>219.355399</td>\n      <td>612</td>\n    </tr>\n    <tr>\n      <th>3</th>\n      <td>0.5421</td>\n      <td>0.3214</td>\n      <td>15718163091456</td>\n      <td>15718163091456</td>\n      <td>292.120897</td>\n      <td>816</td>\n    </tr>\n    <tr>\n      <th>4</th>\n      <td>0.5251</td>\n      <td>0.4209</td>\n      <td>19647703864320</td>\n      <td>19647703864320</td>\n      <td>364.308083</td>\n      <td>1020</td>\n    </tr>\n    <tr>\n      <th>...</th>\n      <td>...</td>\n      <td>...</td>\n      <td>...</td>\n      <td>...</td>\n      <td>...</td>\n      <td>...</td>\n    </tr>\n    <tr>\n      <th>75</th>\n      <td>0.7392</td>\n      <td>0.6902</td>\n      <td>298645098737664</td>\n      <td>298645098737664</td>\n      <td>5302.079932</td>\n      <td>15504</td>\n    </tr>\n    <tr>\n      <th>76</th>\n      <td>0.7516</td>\n      <td>0.7054</td>\n      <td>302574639510528</td>\n      <td>302574639510528</td>\n      <td>5369.428892</td>\n      <td>15708</td>\n    </tr>\n    <tr>\n      <th>77</th>\n      <td>0.7708</td>\n      <td>0.6959</td>\n      <td>306504180283392</td>\n      <td>306504180283392</td>\n      <td>5437.127071</td>\n      <td>15912</td>\n    </tr>\n    <tr>\n      <th>78</th>\n      <td>0.7644</td>\n      <td>0.7490</td>\n      <td>310433721056256</td>\n      <td>310433721056256</td>\n      <td>5504.412837</td>\n      <td>16116</td>\n    </tr>\n    <tr>\n      <th>79</th>\n      <td>0.7666</td>\n      <td>0.6750</td>\n      <td>314363261829120</td>\n      <td>314363261829120</td>\n      <td>5572.203897</td>\n      <td>16320</td>\n    </tr>\n  </tbody>\n</table>\n<p>80 rows × 6 columns</p>\n</div>"
     },
     "metadata": {},
     "execution_count": 5
    }
   ],
   "source": [
    "j = json.load(open(\"stats/cifar10/ucb_k_3_num_clients_12.json\", \"r\"))\n",
    "df = pd.DataFrame(j)\n",
    "df"
   ]
  },
  {
   "cell_type": "code",
   "execution_count": 13,
   "metadata": {},
   "outputs": [
    {
     "output_type": "display_data",
     "data": {
      "application/vnd.plotly.v1+json": {
       "config": {
        "plotlyServerURL": "https://plot.ly"
       },
       "data": [
        {
         "name": "SplitNN Accuracy",
         "type": "scatter",
         "x": [
          204,
          408,
          612,
          816,
          1020,
          1224,
          1428,
          1632,
          1836,
          2040,
          2244,
          2448,
          2652,
          2856,
          3060,
          3264,
          3468,
          3672,
          3876,
          4080,
          4284,
          4488,
          4692,
          4896,
          5100,
          5304,
          5508,
          5712,
          5916,
          6120,
          6324,
          6528,
          6732,
          6936,
          7140,
          7344,
          7548,
          7752,
          7956,
          8160,
          8364,
          8568,
          8772,
          8976,
          9180,
          9384,
          9588,
          9792,
          9996,
          10200,
          10404,
          10608,
          10812,
          11016,
          11220,
          11424,
          11628,
          11832,
          12036,
          12240,
          12444,
          12648,
          12852,
          13056,
          13260,
          13464,
          13668,
          13872,
          14076,
          14280,
          14484,
          14688,
          14892,
          15096,
          15300,
          15504,
          15708,
          15912,
          16116,
          16320
         ],
         "y": [
          0.1,
          0.4258,
          0.51,
          0.5421,
          0.5251,
          0.6639,
          0.5845,
          0.6223,
          0.5545,
          0.657,
          0.7064,
          0.6722,
          0.6329,
          0.6756,
          0.6753,
          0.6726,
          0.666,
          0.6576,
          0.6574,
          0.687,
          0.6579,
          0.705,
          0.6995,
          0.7128,
          0.7086,
          0.6985,
          0.7279,
          0.7437,
          0.7414,
          0.7351,
          0.6899,
          0.7564,
          0.7222,
          0.7414,
          0.7109,
          0.7228,
          0.7027,
          0.6905,
          0.7459,
          0.6853,
          0.743,
          0.7295,
          0.755,
          0.7326,
          0.6781,
          0.7601,
          0.7373,
          0.735,
          0.7754,
          0.7445,
          0.7396,
          0.7451,
          0.7057,
          0.7551,
          0.7219,
          0.7218,
          0.717,
          0.6984,
          0.6707,
          0.6385,
          0.7348,
          0.7384,
          0.7619,
          0.7615,
          0.7669,
          0.7345,
          0.7671,
          0.7272,
          0.7537,
          0.7526,
          0.7495,
          0.736,
          0.7457,
          0.7621,
          0.2494,
          0.7392,
          0.7516,
          0.7708,
          0.7644,
          0.7666
         ]
        },
        {
         "name": "UCB-CS Accuracy",
         "type": "scatter",
         "x": [
          204,
          408,
          612,
          816,
          1020,
          1224,
          1428,
          1632,
          1836,
          2040,
          2244,
          2448,
          2652,
          2856,
          3060,
          3264,
          3468,
          3672,
          3876,
          4080,
          4284,
          4488,
          4692,
          4896,
          5100,
          5304,
          5508,
          5712,
          5916,
          6120,
          6324,
          6528,
          6732,
          6936,
          7140,
          7344,
          7548,
          7752,
          7956,
          8160,
          8364,
          8568,
          8772,
          8976,
          9180,
          9384,
          9588,
          9792,
          9996,
          10200,
          10404,
          10608,
          10812,
          11016,
          11220,
          11424,
          11628,
          11832,
          12036,
          12240,
          12444,
          12648,
          12852,
          13056,
          13260,
          13464,
          13668,
          13872,
          14076,
          14280,
          14484,
          14688,
          14892,
          15096,
          15300,
          15504,
          15708,
          15912,
          16116,
          16320
         ],
         "y": [
          0.1,
          0.1375,
          0.2829,
          0.3214,
          0.4209,
          0.4361,
          0.4647,
          0.4961,
          0.5322,
          0.5076,
          0.4963,
          0.5068,
          0.5888,
          0.52,
          0.5592,
          0.4612,
          0.6534,
          0.6228,
          0.5873,
          0.6116,
          0.6917,
          0.5517,
          0.6059,
          0.587,
          0.624,
          0.5619,
          0.6694,
          0.6571,
          0.6512,
          0.6894,
          0.6337,
          0.636,
          0.6385,
          0.6786,
          0.7131,
          0.6658,
          0.6452,
          0.6257,
          0.7145,
          0.6517,
          0.6251,
          0.6053,
          0.7128,
          0.7158,
          0.6969,
          0.4628,
          0.6168,
          0.6579,
          0.6704,
          0.7456,
          0.4875,
          0.7158,
          0.6967,
          0.7161,
          0.7292,
          0.7095,
          0.6866,
          0.635,
          0.7249,
          0.6951,
          0.6801,
          0.5617,
          0.7476,
          0.6505,
          0.6872,
          0.7038,
          0.7205,
          0.7155,
          0.7028,
          0.6697,
          0.7218,
          0.6568,
          0.7549,
          0.7058,
          0.4557,
          0.6902,
          0.7054,
          0.6959,
          0.749,
          0.675
         ]
        }
       ],
       "layout": {
        "template": {
         "data": {
          "bar": [
           {
            "error_x": {
             "color": "#2a3f5f"
            },
            "error_y": {
             "color": "#2a3f5f"
            },
            "marker": {
             "line": {
              "color": "#E5ECF6",
              "width": 0.5
             },
             "pattern": {
              "fillmode": "overlay",
              "size": 10,
              "solidity": 0.2
             }
            },
            "type": "bar"
           }
          ],
          "barpolar": [
           {
            "marker": {
             "line": {
              "color": "#E5ECF6",
              "width": 0.5
             },
             "pattern": {
              "fillmode": "overlay",
              "size": 10,
              "solidity": 0.2
             }
            },
            "type": "barpolar"
           }
          ],
          "carpet": [
           {
            "aaxis": {
             "endlinecolor": "#2a3f5f",
             "gridcolor": "white",
             "linecolor": "white",
             "minorgridcolor": "white",
             "startlinecolor": "#2a3f5f"
            },
            "baxis": {
             "endlinecolor": "#2a3f5f",
             "gridcolor": "white",
             "linecolor": "white",
             "minorgridcolor": "white",
             "startlinecolor": "#2a3f5f"
            },
            "type": "carpet"
           }
          ],
          "choropleth": [
           {
            "colorbar": {
             "outlinewidth": 0,
             "ticks": ""
            },
            "type": "choropleth"
           }
          ],
          "contour": [
           {
            "colorbar": {
             "outlinewidth": 0,
             "ticks": ""
            },
            "colorscale": [
             [
              0,
              "#0d0887"
             ],
             [
              0.1111111111111111,
              "#46039f"
             ],
             [
              0.2222222222222222,
              "#7201a8"
             ],
             [
              0.3333333333333333,
              "#9c179e"
             ],
             [
              0.4444444444444444,
              "#bd3786"
             ],
             [
              0.5555555555555556,
              "#d8576b"
             ],
             [
              0.6666666666666666,
              "#ed7953"
             ],
             [
              0.7777777777777778,
              "#fb9f3a"
             ],
             [
              0.8888888888888888,
              "#fdca26"
             ],
             [
              1,
              "#f0f921"
             ]
            ],
            "type": "contour"
           }
          ],
          "contourcarpet": [
           {
            "colorbar": {
             "outlinewidth": 0,
             "ticks": ""
            },
            "type": "contourcarpet"
           }
          ],
          "heatmap": [
           {
            "colorbar": {
             "outlinewidth": 0,
             "ticks": ""
            },
            "colorscale": [
             [
              0,
              "#0d0887"
             ],
             [
              0.1111111111111111,
              "#46039f"
             ],
             [
              0.2222222222222222,
              "#7201a8"
             ],
             [
              0.3333333333333333,
              "#9c179e"
             ],
             [
              0.4444444444444444,
              "#bd3786"
             ],
             [
              0.5555555555555556,
              "#d8576b"
             ],
             [
              0.6666666666666666,
              "#ed7953"
             ],
             [
              0.7777777777777778,
              "#fb9f3a"
             ],
             [
              0.8888888888888888,
              "#fdca26"
             ],
             [
              1,
              "#f0f921"
             ]
            ],
            "type": "heatmap"
           }
          ],
          "heatmapgl": [
           {
            "colorbar": {
             "outlinewidth": 0,
             "ticks": ""
            },
            "colorscale": [
             [
              0,
              "#0d0887"
             ],
             [
              0.1111111111111111,
              "#46039f"
             ],
             [
              0.2222222222222222,
              "#7201a8"
             ],
             [
              0.3333333333333333,
              "#9c179e"
             ],
             [
              0.4444444444444444,
              "#bd3786"
             ],
             [
              0.5555555555555556,
              "#d8576b"
             ],
             [
              0.6666666666666666,
              "#ed7953"
             ],
             [
              0.7777777777777778,
              "#fb9f3a"
             ],
             [
              0.8888888888888888,
              "#fdca26"
             ],
             [
              1,
              "#f0f921"
             ]
            ],
            "type": "heatmapgl"
           }
          ],
          "histogram": [
           {
            "marker": {
             "pattern": {
              "fillmode": "overlay",
              "size": 10,
              "solidity": 0.2
             }
            },
            "type": "histogram"
           }
          ],
          "histogram2d": [
           {
            "colorbar": {
             "outlinewidth": 0,
             "ticks": ""
            },
            "colorscale": [
             [
              0,
              "#0d0887"
             ],
             [
              0.1111111111111111,
              "#46039f"
             ],
             [
              0.2222222222222222,
              "#7201a8"
             ],
             [
              0.3333333333333333,
              "#9c179e"
             ],
             [
              0.4444444444444444,
              "#bd3786"
             ],
             [
              0.5555555555555556,
              "#d8576b"
             ],
             [
              0.6666666666666666,
              "#ed7953"
             ],
             [
              0.7777777777777778,
              "#fb9f3a"
             ],
             [
              0.8888888888888888,
              "#fdca26"
             ],
             [
              1,
              "#f0f921"
             ]
            ],
            "type": "histogram2d"
           }
          ],
          "histogram2dcontour": [
           {
            "colorbar": {
             "outlinewidth": 0,
             "ticks": ""
            },
            "colorscale": [
             [
              0,
              "#0d0887"
             ],
             [
              0.1111111111111111,
              "#46039f"
             ],
             [
              0.2222222222222222,
              "#7201a8"
             ],
             [
              0.3333333333333333,
              "#9c179e"
             ],
             [
              0.4444444444444444,
              "#bd3786"
             ],
             [
              0.5555555555555556,
              "#d8576b"
             ],
             [
              0.6666666666666666,
              "#ed7953"
             ],
             [
              0.7777777777777778,
              "#fb9f3a"
             ],
             [
              0.8888888888888888,
              "#fdca26"
             ],
             [
              1,
              "#f0f921"
             ]
            ],
            "type": "histogram2dcontour"
           }
          ],
          "mesh3d": [
           {
            "colorbar": {
             "outlinewidth": 0,
             "ticks": ""
            },
            "type": "mesh3d"
           }
          ],
          "parcoords": [
           {
            "line": {
             "colorbar": {
              "outlinewidth": 0,
              "ticks": ""
             }
            },
            "type": "parcoords"
           }
          ],
          "pie": [
           {
            "automargin": true,
            "type": "pie"
           }
          ],
          "scatter": [
           {
            "marker": {
             "colorbar": {
              "outlinewidth": 0,
              "ticks": ""
             }
            },
            "type": "scatter"
           }
          ],
          "scatter3d": [
           {
            "line": {
             "colorbar": {
              "outlinewidth": 0,
              "ticks": ""
             }
            },
            "marker": {
             "colorbar": {
              "outlinewidth": 0,
              "ticks": ""
             }
            },
            "type": "scatter3d"
           }
          ],
          "scattercarpet": [
           {
            "marker": {
             "colorbar": {
              "outlinewidth": 0,
              "ticks": ""
             }
            },
            "type": "scattercarpet"
           }
          ],
          "scattergeo": [
           {
            "marker": {
             "colorbar": {
              "outlinewidth": 0,
              "ticks": ""
             }
            },
            "type": "scattergeo"
           }
          ],
          "scattergl": [
           {
            "marker": {
             "colorbar": {
              "outlinewidth": 0,
              "ticks": ""
             }
            },
            "type": "scattergl"
           }
          ],
          "scattermapbox": [
           {
            "marker": {
             "colorbar": {
              "outlinewidth": 0,
              "ticks": ""
             }
            },
            "type": "scattermapbox"
           }
          ],
          "scatterpolar": [
           {
            "marker": {
             "colorbar": {
              "outlinewidth": 0,
              "ticks": ""
             }
            },
            "type": "scatterpolar"
           }
          ],
          "scatterpolargl": [
           {
            "marker": {
             "colorbar": {
              "outlinewidth": 0,
              "ticks": ""
             }
            },
            "type": "scatterpolargl"
           }
          ],
          "scatterternary": [
           {
            "marker": {
             "colorbar": {
              "outlinewidth": 0,
              "ticks": ""
             }
            },
            "type": "scatterternary"
           }
          ],
          "surface": [
           {
            "colorbar": {
             "outlinewidth": 0,
             "ticks": ""
            },
            "colorscale": [
             [
              0,
              "#0d0887"
             ],
             [
              0.1111111111111111,
              "#46039f"
             ],
             [
              0.2222222222222222,
              "#7201a8"
             ],
             [
              0.3333333333333333,
              "#9c179e"
             ],
             [
              0.4444444444444444,
              "#bd3786"
             ],
             [
              0.5555555555555556,
              "#d8576b"
             ],
             [
              0.6666666666666666,
              "#ed7953"
             ],
             [
              0.7777777777777778,
              "#fb9f3a"
             ],
             [
              0.8888888888888888,
              "#fdca26"
             ],
             [
              1,
              "#f0f921"
             ]
            ],
            "type": "surface"
           }
          ],
          "table": [
           {
            "cells": {
             "fill": {
              "color": "#EBF0F8"
             },
             "line": {
              "color": "white"
             }
            },
            "header": {
             "fill": {
              "color": "#C8D4E3"
             },
             "line": {
              "color": "white"
             }
            },
            "type": "table"
           }
          ]
         },
         "layout": {
          "annotationdefaults": {
           "arrowcolor": "#2a3f5f",
           "arrowhead": 0,
           "arrowwidth": 1
          },
          "autotypenumbers": "strict",
          "coloraxis": {
           "colorbar": {
            "outlinewidth": 0,
            "ticks": ""
           }
          },
          "colorscale": {
           "diverging": [
            [
             0,
             "#8e0152"
            ],
            [
             0.1,
             "#c51b7d"
            ],
            [
             0.2,
             "#de77ae"
            ],
            [
             0.3,
             "#f1b6da"
            ],
            [
             0.4,
             "#fde0ef"
            ],
            [
             0.5,
             "#f7f7f7"
            ],
            [
             0.6,
             "#e6f5d0"
            ],
            [
             0.7,
             "#b8e186"
            ],
            [
             0.8,
             "#7fbc41"
            ],
            [
             0.9,
             "#4d9221"
            ],
            [
             1,
             "#276419"
            ]
           ],
           "sequential": [
            [
             0,
             "#0d0887"
            ],
            [
             0.1111111111111111,
             "#46039f"
            ],
            [
             0.2222222222222222,
             "#7201a8"
            ],
            [
             0.3333333333333333,
             "#9c179e"
            ],
            [
             0.4444444444444444,
             "#bd3786"
            ],
            [
             0.5555555555555556,
             "#d8576b"
            ],
            [
             0.6666666666666666,
             "#ed7953"
            ],
            [
             0.7777777777777778,
             "#fb9f3a"
            ],
            [
             0.8888888888888888,
             "#fdca26"
            ],
            [
             1,
             "#f0f921"
            ]
           ],
           "sequentialminus": [
            [
             0,
             "#0d0887"
            ],
            [
             0.1111111111111111,
             "#46039f"
            ],
            [
             0.2222222222222222,
             "#7201a8"
            ],
            [
             0.3333333333333333,
             "#9c179e"
            ],
            [
             0.4444444444444444,
             "#bd3786"
            ],
            [
             0.5555555555555556,
             "#d8576b"
            ],
            [
             0.6666666666666666,
             "#ed7953"
            ],
            [
             0.7777777777777778,
             "#fb9f3a"
            ],
            [
             0.8888888888888888,
             "#fdca26"
            ],
            [
             1,
             "#f0f921"
            ]
           ]
          },
          "colorway": [
           "#636efa",
           "#EF553B",
           "#00cc96",
           "#ab63fa",
           "#FFA15A",
           "#19d3f3",
           "#FF6692",
           "#B6E880",
           "#FF97FF",
           "#FECB52"
          ],
          "font": {
           "color": "#2a3f5f"
          },
          "geo": {
           "bgcolor": "white",
           "lakecolor": "white",
           "landcolor": "#E5ECF6",
           "showlakes": true,
           "showland": true,
           "subunitcolor": "white"
          },
          "hoverlabel": {
           "align": "left"
          },
          "hovermode": "closest",
          "mapbox": {
           "style": "light"
          },
          "paper_bgcolor": "white",
          "plot_bgcolor": "#E5ECF6",
          "polar": {
           "angularaxis": {
            "gridcolor": "white",
            "linecolor": "white",
            "ticks": ""
           },
           "bgcolor": "#E5ECF6",
           "radialaxis": {
            "gridcolor": "white",
            "linecolor": "white",
            "ticks": ""
           }
          },
          "scene": {
           "xaxis": {
            "backgroundcolor": "#E5ECF6",
            "gridcolor": "white",
            "gridwidth": 2,
            "linecolor": "white",
            "showbackground": true,
            "ticks": "",
            "zerolinecolor": "white"
           },
           "yaxis": {
            "backgroundcolor": "#E5ECF6",
            "gridcolor": "white",
            "gridwidth": 2,
            "linecolor": "white",
            "showbackground": true,
            "ticks": "",
            "zerolinecolor": "white"
           },
           "zaxis": {
            "backgroundcolor": "#E5ECF6",
            "gridcolor": "white",
            "gridwidth": 2,
            "linecolor": "white",
            "showbackground": true,
            "ticks": "",
            "zerolinecolor": "white"
           }
          },
          "shapedefaults": {
           "line": {
            "color": "#2a3f5f"
           }
          },
          "ternary": {
           "aaxis": {
            "gridcolor": "white",
            "linecolor": "white",
            "ticks": ""
           },
           "baxis": {
            "gridcolor": "white",
            "linecolor": "white",
            "ticks": ""
           },
           "bgcolor": "#E5ECF6",
           "caxis": {
            "gridcolor": "white",
            "linecolor": "white",
            "ticks": ""
           }
          },
          "title": {
           "x": 0.05
          },
          "xaxis": {
           "automargin": true,
           "gridcolor": "white",
           "linecolor": "white",
           "ticks": "",
           "title": {
            "standoff": 15
           },
           "zerolinecolor": "white",
           "zerolinewidth": 2
          },
          "yaxis": {
           "automargin": true,
           "gridcolor": "white",
           "linecolor": "white",
           "ticks": "",
           "title": {
            "standoff": 15
           },
           "zerolinecolor": "white",
           "zerolinewidth": 2
          }
         }
        }
       }
      }
     },
     "metadata": {}
    }
   ],
   "source": [
    "fig = go.Figure(\n",
    "    data=[\n",
    "        go.Scatter(x=df['Steps'], y=df['SplitNN Accuracy'], name=\"SplitNN Accuracy\"),\n",
    "        go.Scatter(x=df['Steps'], y=df['Interrupted Accuracy'], name=\"UCB-CS Accuracy\"),\n",
    "    ]\n",
    ")\n",
    "# fig.add_trace(\n",
    "#     px.line(df, x=\"Steps\", y=\"SplitNN Accuracy\").data[0]\n",
    "# )\n",
    "fig.show()"
   ]
  },
  {
   "cell_type": "code",
   "execution_count": null,
   "metadata": {},
   "outputs": [],
   "source": []
  }
 ]
}