{
 "cells": [
  {
   "cell_type": "code",
   "execution_count": 2,
   "source": [
    "import json\n",
    "import os\n",
    "from glob import glob\n",
    "import pandas as pd\n",
    "import re\n",
    "import plotly.graph_objs as go\n",
    "import scipy.stats as st\n",
    "import numpy as np"
   ],
   "outputs": [],
   "metadata": {}
  },
  {
   "cell_type": "markdown",
   "source": [
    "# Utility Functions to read saved experimental statistics and plotting"
   ],
   "metadata": {}
  },
  {
   "cell_type": "markdown",
   "source": [
    " "
   ],
   "metadata": {}
  },
  {
   "cell_type": "code",
   "execution_count": 3,
   "source": [
    "def read_experiment_stats(regex):\n",
    "    all_files = glob(\"./stats/*.json\")\n",
    "    files = []\n",
    "    for f in all_files:\n",
    "        temp = os.path.split(f)[-1]\n",
    "        if re.search(regex, temp) is not None:\n",
    "            files.append(f)\n",
    "    # print(files)\n",
    "    method_acc = []\n",
    "    method_total_flops = []\n",
    "    method_client_flops = []\n",
    "    method_comm = []\n",
    "    steps = []\n",
    "    names = []\n",
    "\n",
    "    # hparams = {}\n",
    "    # for k in json.load(open(files[0], \"r\"))['hparams'].keys():\n",
    "    #     hparams[k] = []\n",
    "        \n",
    "\n",
    "    for f in files:\n",
    "        j = json.load(open(f, \"r\"))\n",
    "        method_acc.append(j['Method Accuracy'])\n",
    "        method_total_flops.append(j['Method Flops'])\n",
    "        method_client_flops.append(j['Method Client Flops'])\n",
    "        method_comm.append(j['Method Comm Cost'])\n",
    "        steps.append(j['Steps'])\n",
    "        names.append(os.path.split(f)[-1].replace(\".json\", \"\"))\n",
    "        \n",
    "        # for k, v in j['hparams'].items():\n",
    "        #     hparams[k].append(v)\n",
    "\n",
    "    df = pd.DataFrame(\n",
    "        zip(names, method_acc, method_comm, method_total_flops, method_client_flops), \n",
    "        columns=[\"Experiment Name\", \"Method Accuracy\", \"Method Comm Cost\", \"Total Flops\", \"Client Flops\"]\n",
    "    )\n",
    "    \n",
    "    # Make main results table\n",
    "    table = pd.DataFrame()\n",
    "    table['Experiment Name'] = df['Experiment Name']\n",
    "    table['Method Accuracy'] = df['Method Accuracy'].apply(lambda x: max(eval(x)))\n",
    "    table['Client TFLOPS'] = df['Client Flops'].apply(lambda x: eval(x)[-1] * 1e-12)\n",
    "    table['Total TFLOPS'] = df['Total Flops'].apply(lambda x: eval(x)[-1] * 1e-12)\n",
    "    table['Comm Cost (GBs)'] = df['Method Comm Cost'].apply(lambda x: eval(x)[-1] * 1e-3)\n",
    "\n",
    "    # Plot Accuracy Figure\n",
    "    fig = go.Figure()\n",
    "    for i in range(len(df)):\n",
    "        fig.add_trace(\n",
    "            go.Scatter(x=eval(steps[i]), y=eval(df['Method Accuracy'][i]), name=df['Experiment Name'][i])\n",
    "        )\n",
    "    fig.update_layout(title_text=\"\",\n",
    "            paper_bgcolor='rgba(255,255,255,1)',\\\n",
    "        plot_bgcolor='rgba(255,255,255,1)',)\n",
    "\n",
    "    fig.update_xaxes(showline=True, linewidth=1, linecolor='black', mirror=True,ticks='outside', showgrid=True, gridcolor=\"LightGray\")\n",
    "    fig.update_yaxes(showline=True, linewidth=1, linecolor='black', mirror=True, ticks='outside', showgrid=True, gridcolor=\"LightGray\")\n",
    "\n",
    "    fig.update_layout(template=None, xaxis_title=\"Training Steps\", yaxis_title=\"Per-Client Test Accuracy\", font=dict(family='Times New Roman', size=14, color='Black'))\n",
    "\n",
    "    return df, table, fig\n"
   ],
   "outputs": [],
   "metadata": {}
  },
  {
   "cell_type": "markdown",
   "source": [
    "# SplitCIFAR (non-i.i.d) Results"
   ],
   "metadata": {}
  },
  {
   "cell_type": "code",
   "execution_count": 4,
   "source": [
    "regex = r'cifar\\_NIID'\n",
    "\n",
    "df, table, fig = read_experiment_stats(regex)\n",
    "table"
   ],
   "outputs": [
    {
     "output_type": "execute_result",
     "data": {
      "text/html": [
       "<div>\n",
       "<style scoped>\n",
       "    .dataframe tbody tr th:only-of-type {\n",
       "        vertical-align: middle;\n",
       "    }\n",
       "\n",
       "    .dataframe tbody tr th {\n",
       "        vertical-align: top;\n",
       "    }\n",
       "\n",
       "    .dataframe thead th {\n",
       "        text-align: right;\n",
       "    }\n",
       "</style>\n",
       "<table border=\"1\" class=\"dataframe\">\n",
       "  <thead>\n",
       "    <tr style=\"text-align: right;\">\n",
       "      <th></th>\n",
       "      <th>Experiment Name</th>\n",
       "      <th>Method Accuracy</th>\n",
       "      <th>Client TFLOPS</th>\n",
       "      <th>Total TFLOPS</th>\n",
       "      <th>Comm Cost (GBs)</th>\n",
       "    </tr>\n",
       "  </thead>\n",
       "  <tbody>\n",
       "  </tbody>\n",
       "</table>\n",
       "</div>"
      ],
      "text/plain": [
       "Empty DataFrame\n",
       "Columns: [Experiment Name, Method Accuracy, Client TFLOPS, Total TFLOPS, Comm Cost (GBs)]\n",
       "Index: []"
      ]
     },
     "metadata": {},
     "execution_count": 4
    }
   ],
   "metadata": {}
  },
  {
   "cell_type": "code",
   "execution_count": 5,
   "source": [
    "fig.show()"
   ],
   "outputs": [
    {
     "output_type": "display_data",
     "data": {
      "application/vnd.plotly.v1+json": {
       "config": {
        "plotlyServerURL": "https://plot.ly"
       },
       "data": [],
       "layout": {
        "font": {
         "color": "Black",
         "family": "Times New Roman",
         "size": 14
        },
        "paper_bgcolor": "rgba(255,255,255,1)",
        "plot_bgcolor": "rgba(255,255,255,1)",
        "template": {},
        "title": {
         "text": ""
        },
        "xaxis": {
         "gridcolor": "LightGray",
         "linecolor": "black",
         "linewidth": 1,
         "mirror": true,
         "showgrid": true,
         "showline": true,
         "ticks": "outside",
         "title": {
          "text": "Training Steps"
         }
        },
        "yaxis": {
         "gridcolor": "LightGray",
         "linecolor": "black",
         "linewidth": 1,
         "mirror": true,
         "showgrid": true,
         "showline": true,
         "ticks": "outside",
         "title": {
          "text": "Per-Client Test Accuracy"
         }
        }
       }
      }
     },
     "metadata": {}
    }
   ],
   "metadata": {}
  },
  {
   "cell_type": "markdown",
   "source": [
    "# CIFAR10 (i.i.d) Results"
   ],
   "metadata": {}
  },
  {
   "cell_type": "code",
   "execution_count": 6,
   "source": [
    "df, table, fig = read_experiment_stats(r'cifar\\_(?!NIID)')\n",
    "table"
   ],
   "outputs": [
    {
     "output_type": "execute_result",
     "data": {
      "text/html": [
       "<div>\n",
       "<style scoped>\n",
       "    .dataframe tbody tr th:only-of-type {\n",
       "        vertical-align: middle;\n",
       "    }\n",
       "\n",
       "    .dataframe tbody tr th {\n",
       "        vertical-align: top;\n",
       "    }\n",
       "\n",
       "    .dataframe thead th {\n",
       "        text-align: right;\n",
       "    }\n",
       "</style>\n",
       "<table border=\"1\" class=\"dataframe\">\n",
       "  <thead>\n",
       "    <tr style=\"text-align: right;\">\n",
       "      <th></th>\n",
       "      <th>Experiment Name</th>\n",
       "      <th>Method Accuracy</th>\n",
       "      <th>Client TFLOPS</th>\n",
       "      <th>Total TFLOPS</th>\n",
       "      <th>Comm Cost (GBs)</th>\n",
       "    </tr>\n",
       "  </thead>\n",
       "  <tbody>\n",
       "  </tbody>\n",
       "</table>\n",
       "</div>"
      ],
      "text/plain": [
       "Empty DataFrame\n",
       "Columns: [Experiment Name, Method Accuracy, Client TFLOPS, Total TFLOPS, Comm Cost (GBs)]\n",
       "Index: []"
      ]
     },
     "metadata": {},
     "execution_count": 6
    }
   ],
   "metadata": {}
  },
  {
   "cell_type": "code",
   "execution_count": 7,
   "source": [
    "fig.show()"
   ],
   "outputs": [
    {
     "output_type": "display_data",
     "data": {
      "application/vnd.plotly.v1+json": {
       "config": {
        "plotlyServerURL": "https://plot.ly"
       },
       "data": [],
       "layout": {
        "font": {
         "color": "Black",
         "family": "Times New Roman",
         "size": 14
        },
        "paper_bgcolor": "rgba(255,255,255,1)",
        "plot_bgcolor": "rgba(255,255,255,1)",
        "template": {},
        "title": {
         "text": ""
        },
        "xaxis": {
         "gridcolor": "LightGray",
         "linecolor": "black",
         "linewidth": 1,
         "mirror": true,
         "showgrid": true,
         "showline": true,
         "ticks": "outside",
         "title": {
          "text": "Training Steps"
         }
        },
        "yaxis": {
         "gridcolor": "LightGray",
         "linecolor": "black",
         "linewidth": 1,
         "mirror": true,
         "showgrid": true,
         "showline": true,
         "ticks": "outside",
         "title": {
          "text": "Per-Client Test Accuracy"
         }
        }
       }
      }
     },
     "metadata": {}
    }
   ],
   "metadata": {}
  },
  {
   "cell_type": "markdown",
   "source": [
    "# Interrupt Duration Ablation on SplitCIFAR\n",
    "- All settings are the same as CESL-6/10 except for Interrupt duration."
   ],
   "metadata": {}
  },
  {
   "cell_type": "code",
   "execution_count": 8,
   "source": [
    "df, table, fig = read_experiment_stats(r'interrupt\\_range\\_expt')\n",
    "table"
   ],
   "outputs": [
    {
     "output_type": "execute_result",
     "data": {
      "text/html": [
       "<div>\n",
       "<style scoped>\n",
       "    .dataframe tbody tr th:only-of-type {\n",
       "        vertical-align: middle;\n",
       "    }\n",
       "\n",
       "    .dataframe tbody tr th {\n",
       "        vertical-align: top;\n",
       "    }\n",
       "\n",
       "    .dataframe thead th {\n",
       "        text-align: right;\n",
       "    }\n",
       "</style>\n",
       "<table border=\"1\" class=\"dataframe\">\n",
       "  <thead>\n",
       "    <tr style=\"text-align: right;\">\n",
       "      <th></th>\n",
       "      <th>Experiment Name</th>\n",
       "      <th>Method Accuracy</th>\n",
       "      <th>Client TFLOPS</th>\n",
       "      <th>Total TFLOPS</th>\n",
       "      <th>Comm Cost (GBs)</th>\n",
       "    </tr>\n",
       "  </thead>\n",
       "  <tbody>\n",
       "  </tbody>\n",
       "</table>\n",
       "</div>"
      ],
      "text/plain": [
       "Empty DataFrame\n",
       "Columns: [Experiment Name, Method Accuracy, Client TFLOPS, Total TFLOPS, Comm Cost (GBs)]\n",
       "Index: []"
      ]
     },
     "metadata": {},
     "execution_count": 8
    }
   ],
   "metadata": {}
  },
  {
   "cell_type": "code",
   "execution_count": 9,
   "source": [
    "fig.show()"
   ],
   "outputs": [
    {
     "output_type": "display_data",
     "data": {
      "application/vnd.plotly.v1+json": {
       "config": {
        "plotlyServerURL": "https://plot.ly"
       },
       "data": [],
       "layout": {
        "font": {
         "color": "Black",
         "family": "Times New Roman",
         "size": 14
        },
        "paper_bgcolor": "rgba(255,255,255,1)",
        "plot_bgcolor": "rgba(255,255,255,1)",
        "template": {},
        "title": {
         "text": ""
        },
        "xaxis": {
         "gridcolor": "LightGray",
         "linecolor": "black",
         "linewidth": 1,
         "mirror": true,
         "showgrid": true,
         "showline": true,
         "ticks": "outside",
         "title": {
          "text": "Training Steps"
         }
        },
        "yaxis": {
         "gridcolor": "LightGray",
         "linecolor": "black",
         "linewidth": 1,
         "mirror": true,
         "showgrid": true,
         "showline": true,
         "ticks": "outside",
         "title": {
          "text": "Per-Client Test Accuracy"
         }
        }
       }
      }
     },
     "metadata": {}
    }
   ],
   "metadata": {}
  },
  {
   "cell_type": "markdown",
   "source": [
    "# Interrupt Duration Ablation on CIFAR10 (i.i.d)\n",
    "- All settings are the same as CESL-6/10 except for Interrupt duration."
   ],
   "metadata": {}
  },
  {
   "cell_type": "code",
   "execution_count": 10,
   "source": [
    "df, table, fig = read_experiment_stats(r'interrupt\\_range\\_iid')\n",
    "table"
   ],
   "outputs": [
    {
     "output_type": "execute_result",
     "data": {
      "text/html": [
       "<div>\n",
       "<style scoped>\n",
       "    .dataframe tbody tr th:only-of-type {\n",
       "        vertical-align: middle;\n",
       "    }\n",
       "\n",
       "    .dataframe tbody tr th {\n",
       "        vertical-align: top;\n",
       "    }\n",
       "\n",
       "    .dataframe thead th {\n",
       "        text-align: right;\n",
       "    }\n",
       "</style>\n",
       "<table border=\"1\" class=\"dataframe\">\n",
       "  <thead>\n",
       "    <tr style=\"text-align: right;\">\n",
       "      <th></th>\n",
       "      <th>Experiment Name</th>\n",
       "      <th>Method Accuracy</th>\n",
       "      <th>Client TFLOPS</th>\n",
       "      <th>Total TFLOPS</th>\n",
       "      <th>Comm Cost (GBs)</th>\n",
       "    </tr>\n",
       "  </thead>\n",
       "  <tbody>\n",
       "  </tbody>\n",
       "</table>\n",
       "</div>"
      ],
      "text/plain": [
       "Empty DataFrame\n",
       "Columns: [Experiment Name, Method Accuracy, Client TFLOPS, Total TFLOPS, Comm Cost (GBs)]\n",
       "Index: []"
      ]
     },
     "metadata": {},
     "execution_count": 10
    }
   ],
   "metadata": {}
  },
  {
   "cell_type": "code",
   "execution_count": 11,
   "source": [
    "fig.show()"
   ],
   "outputs": [
    {
     "output_type": "display_data",
     "data": {
      "application/vnd.plotly.v1+json": {
       "config": {
        "plotlyServerURL": "https://plot.ly"
       },
       "data": [],
       "layout": {
        "font": {
         "color": "Black",
         "family": "Times New Roman",
         "size": 14
        },
        "paper_bgcolor": "rgba(255,255,255,1)",
        "plot_bgcolor": "rgba(255,255,255,1)",
        "template": {},
        "title": {
         "text": ""
        },
        "xaxis": {
         "gridcolor": "LightGray",
         "linecolor": "black",
         "linewidth": 1,
         "mirror": true,
         "showgrid": true,
         "showline": true,
         "ticks": "outside",
         "title": {
          "text": "Training Steps"
         }
        },
        "yaxis": {
         "gridcolor": "LightGray",
         "linecolor": "black",
         "linewidth": 1,
         "mirror": true,
         "showgrid": true,
         "showline": true,
         "ticks": "outside",
         "title": {
          "text": "Per-Client Test Accuracy"
         }
        }
       }
      }
     },
     "metadata": {}
    }
   ],
   "metadata": {}
  },
  {
   "cell_type": "code",
   "execution_count": 12,
   "source": [
    "df, table, fig = read_experiment_stats(r'SplitFed')\n",
    "table"
   ],
   "outputs": [
    {
     "output_type": "execute_result",
     "data": {
      "text/html": [
       "<div>\n",
       "<style scoped>\n",
       "    .dataframe tbody tr th:only-of-type {\n",
       "        vertical-align: middle;\n",
       "    }\n",
       "\n",
       "    .dataframe tbody tr th {\n",
       "        vertical-align: top;\n",
       "    }\n",
       "\n",
       "    .dataframe thead th {\n",
       "        text-align: right;\n",
       "    }\n",
       "</style>\n",
       "<table border=\"1\" class=\"dataframe\">\n",
       "  <thead>\n",
       "    <tr style=\"text-align: right;\">\n",
       "      <th></th>\n",
       "      <th>Experiment Name</th>\n",
       "      <th>Method Accuracy</th>\n",
       "      <th>Client TFLOPS</th>\n",
       "      <th>Total TFLOPS</th>\n",
       "      <th>Comm Cost (GBs)</th>\n",
       "    </tr>\n",
       "  </thead>\n",
       "  <tbody>\n",
       "  </tbody>\n",
       "</table>\n",
       "</div>"
      ],
      "text/plain": [
       "Empty DataFrame\n",
       "Columns: [Experiment Name, Method Accuracy, Client TFLOPS, Total TFLOPS, Comm Cost (GBs)]\n",
       "Index: []"
      ]
     },
     "metadata": {},
     "execution_count": 12
    }
   ],
   "metadata": {}
  },
  {
   "cell_type": "code",
   "execution_count": 13,
   "source": [
    "fig.show()"
   ],
   "outputs": [
    {
     "output_type": "display_data",
     "data": {
      "application/vnd.plotly.v1+json": {
       "config": {
        "plotlyServerURL": "https://plot.ly"
       },
       "data": [],
       "layout": {
        "font": {
         "color": "Black",
         "family": "Times New Roman",
         "size": 14
        },
        "paper_bgcolor": "rgba(255,255,255,1)",
        "plot_bgcolor": "rgba(255,255,255,1)",
        "template": {},
        "title": {
         "text": ""
        },
        "xaxis": {
         "gridcolor": "LightGray",
         "linecolor": "black",
         "linewidth": 1,
         "mirror": true,
         "showgrid": true,
         "showline": true,
         "ticks": "outside",
         "title": {
          "text": "Training Steps"
         }
        },
        "yaxis": {
         "gridcolor": "LightGray",
         "linecolor": "black",
         "linewidth": 1,
         "mirror": true,
         "showgrid": true,
         "showline": true,
         "ticks": "outside",
         "title": {
          "text": "Per-Client Test Accuracy"
         }
        }
       }
      }
     },
     "metadata": {}
    }
   ],
   "metadata": {}
  },
  {
   "cell_type": "code",
   "execution_count": 14,
   "source": [
    "df, table, fig = read_experiment_stats(r'non_iid_50')\n",
    "table\n"
   ],
   "outputs": [
    {
     "output_type": "execute_result",
     "data": {
      "text/html": [
       "<div>\n",
       "<style scoped>\n",
       "    .dataframe tbody tr th:only-of-type {\n",
       "        vertical-align: middle;\n",
       "    }\n",
       "\n",
       "    .dataframe tbody tr th {\n",
       "        vertical-align: top;\n",
       "    }\n",
       "\n",
       "    .dataframe thead th {\n",
       "        text-align: right;\n",
       "    }\n",
       "</style>\n",
       "<table border=\"1\" class=\"dataframe\">\n",
       "  <thead>\n",
       "    <tr style=\"text-align: right;\">\n",
       "      <th></th>\n",
       "      <th>Experiment Name</th>\n",
       "      <th>Method Accuracy</th>\n",
       "      <th>Client TFLOPS</th>\n",
       "      <th>Total TFLOPS</th>\n",
       "      <th>Comm Cost (GBs)</th>\n",
       "    </tr>\n",
       "  </thead>\n",
       "  <tbody>\n",
       "    <tr>\n",
       "      <th>0</th>\n",
       "      <td>non_iid_50_Only-Masked_45</td>\n",
       "      <td>0.885454</td>\n",
       "      <td>3.760128</td>\n",
       "      <td>26.685648</td>\n",
       "      <td>80.216064</td>\n",
       "    </tr>\n",
       "    <tr>\n",
       "      <th>1</th>\n",
       "      <td>non_iid_50_CESL-3-5_15</td>\n",
       "      <td>0.881319</td>\n",
       "      <td>5.384503</td>\n",
       "      <td>9.511097</td>\n",
       "      <td>14.438892</td>\n",
       "    </tr>\n",
       "    <tr>\n",
       "      <th>2</th>\n",
       "      <td>non_iid_50_CESL-Random-3-5_45</td>\n",
       "      <td>0.877510</td>\n",
       "      <td>5.384503</td>\n",
       "      <td>9.511097</td>\n",
       "      <td>14.438892</td>\n",
       "    </tr>\n",
       "    <tr>\n",
       "      <th>3</th>\n",
       "      <td>non_iid_50_Only-Masked_35</td>\n",
       "      <td>0.885065</td>\n",
       "      <td>3.760128</td>\n",
       "      <td>26.685648</td>\n",
       "      <td>80.216064</td>\n",
       "    </tr>\n",
       "    <tr>\n",
       "      <th>4</th>\n",
       "      <td>non_iid_50_Only-Masked_15</td>\n",
       "      <td>0.884141</td>\n",
       "      <td>3.760128</td>\n",
       "      <td>26.685648</td>\n",
       "      <td>80.216064</td>\n",
       "    </tr>\n",
       "    <tr>\n",
       "      <th>5</th>\n",
       "      <td>non_iid_50_CESL-Random-3-5_15</td>\n",
       "      <td>0.874569</td>\n",
       "      <td>5.384503</td>\n",
       "      <td>9.511097</td>\n",
       "      <td>14.438892</td>\n",
       "    </tr>\n",
       "    <tr>\n",
       "      <th>6</th>\n",
       "      <td>non_iid_50_CESL-Random-3-5_35</td>\n",
       "      <td>0.876749</td>\n",
       "      <td>5.384503</td>\n",
       "      <td>9.511097</td>\n",
       "      <td>14.438892</td>\n",
       "    </tr>\n",
       "    <tr>\n",
       "      <th>7</th>\n",
       "      <td>non_iid_50_CESL-3-5_45</td>\n",
       "      <td>0.874385</td>\n",
       "      <td>5.384503</td>\n",
       "      <td>9.511097</td>\n",
       "      <td>14.438892</td>\n",
       "    </tr>\n",
       "    <tr>\n",
       "      <th>8</th>\n",
       "      <td>non_iid_50_CESL-3-5_35</td>\n",
       "      <td>0.884008</td>\n",
       "      <td>5.384503</td>\n",
       "      <td>9.511097</td>\n",
       "      <td>14.438892</td>\n",
       "    </tr>\n",
       "    <tr>\n",
       "      <th>9</th>\n",
       "      <td>non_iid_50_Only-Masked_05</td>\n",
       "      <td>0.884002</td>\n",
       "      <td>3.760128</td>\n",
       "      <td>26.685648</td>\n",
       "      <td>80.216064</td>\n",
       "    </tr>\n",
       "    <tr>\n",
       "      <th>10</th>\n",
       "      <td>non_iid_50_CESL-3-5_05</td>\n",
       "      <td>0.881612</td>\n",
       "      <td>5.384503</td>\n",
       "      <td>9.511097</td>\n",
       "      <td>14.438892</td>\n",
       "    </tr>\n",
       "    <tr>\n",
       "      <th>11</th>\n",
       "      <td>non_iid_50_CESL-Random-3-5_05</td>\n",
       "      <td>0.878078</td>\n",
       "      <td>5.384503</td>\n",
       "      <td>9.511097</td>\n",
       "      <td>14.438892</td>\n",
       "    </tr>\n",
       "    <tr>\n",
       "      <th>12</th>\n",
       "      <td>non_iid_50_Only-Masked_25</td>\n",
       "      <td>0.884932</td>\n",
       "      <td>3.760128</td>\n",
       "      <td>26.685648</td>\n",
       "      <td>80.216064</td>\n",
       "    </tr>\n",
       "    <tr>\n",
       "      <th>13</th>\n",
       "      <td>non_iid_50_CESL-Random-3-5_25</td>\n",
       "      <td>0.875477</td>\n",
       "      <td>5.384503</td>\n",
       "      <td>9.511097</td>\n",
       "      <td>14.438892</td>\n",
       "    </tr>\n",
       "    <tr>\n",
       "      <th>14</th>\n",
       "      <td>non_iid_50_CESL-3-5_25</td>\n",
       "      <td>0.878896</td>\n",
       "      <td>5.384503</td>\n",
       "      <td>9.511097</td>\n",
       "      <td>14.438892</td>\n",
       "    </tr>\n",
       "  </tbody>\n",
       "</table>\n",
       "</div>"
      ],
      "text/plain": [
       "                  Experiment Name  Method Accuracy  Client TFLOPS  \\\n",
       "0       non_iid_50_Only-Masked_45         0.885454       3.760128   \n",
       "1          non_iid_50_CESL-3-5_15         0.881319       5.384503   \n",
       "2   non_iid_50_CESL-Random-3-5_45         0.877510       5.384503   \n",
       "3       non_iid_50_Only-Masked_35         0.885065       3.760128   \n",
       "4       non_iid_50_Only-Masked_15         0.884141       3.760128   \n",
       "5   non_iid_50_CESL-Random-3-5_15         0.874569       5.384503   \n",
       "6   non_iid_50_CESL-Random-3-5_35         0.876749       5.384503   \n",
       "7          non_iid_50_CESL-3-5_45         0.874385       5.384503   \n",
       "8          non_iid_50_CESL-3-5_35         0.884008       5.384503   \n",
       "9       non_iid_50_Only-Masked_05         0.884002       3.760128   \n",
       "10         non_iid_50_CESL-3-5_05         0.881612       5.384503   \n",
       "11  non_iid_50_CESL-Random-3-5_05         0.878078       5.384503   \n",
       "12      non_iid_50_Only-Masked_25         0.884932       3.760128   \n",
       "13  non_iid_50_CESL-Random-3-5_25         0.875477       5.384503   \n",
       "14         non_iid_50_CESL-3-5_25         0.878896       5.384503   \n",
       "\n",
       "    Total TFLOPS  Comm Cost (GBs)  \n",
       "0      26.685648        80.216064  \n",
       "1       9.511097        14.438892  \n",
       "2       9.511097        14.438892  \n",
       "3      26.685648        80.216064  \n",
       "4      26.685648        80.216064  \n",
       "5       9.511097        14.438892  \n",
       "6       9.511097        14.438892  \n",
       "7       9.511097        14.438892  \n",
       "8       9.511097        14.438892  \n",
       "9      26.685648        80.216064  \n",
       "10      9.511097        14.438892  \n",
       "11      9.511097        14.438892  \n",
       "12     26.685648        80.216064  \n",
       "13      9.511097        14.438892  \n",
       "14      9.511097        14.438892  "
      ]
     },
     "metadata": {},
     "execution_count": 14
    }
   ],
   "metadata": {}
  },
  {
   "cell_type": "code",
   "execution_count": 15,
   "source": [
    "fig.show()"
   ],
   "outputs": [
    {
     "output_type": "display_data",
     "data": {
      "application/vnd.plotly.v1+json": {
       "config": {
        "plotlyServerURL": "https://plot.ly"
       },
       "data": [
        {
         "name": "non_iid_50_Only-Masked_45",
         "type": "scatter",
         "x": [
          3825,
          7650,
          11475,
          15300,
          19125,
          22950,
          26775,
          30600,
          34425,
          38250,
          42075,
          45900,
          49725,
          53550,
          57375,
          61200,
          65025,
          68850,
          72675,
          76500
         ],
         "y": [
          0.861245264272036,
          0.861047410507253,
          0.8825735362625127,
          0.877358642494863,
          0.8793628000171306,
          0.8854540124792093,
          0.8739660090565602,
          0.8824994852916113,
          0.8733193195256188,
          0.8798751247877231,
          0.8817113983129732,
          0.8802237255308121,
          0.8836670710741578,
          0.8796742172962645,
          0.8843363662584135,
          0.8830609734097923,
          0.882087581447424,
          0.8830499144774736,
          0.882846194400525,
          0.8834126168669476
         ]
        },
        {
         "name": "non_iid_50_CESL-3-5_15",
         "type": "scatter",
         "x": [
          3825,
          7650,
          11475,
          15300,
          19125,
          22950,
          26775,
          30600,
          34425,
          38250,
          42075,
          45900,
          49725,
          53550,
          57375,
          61200,
          65025,
          68850,
          72675,
          76500
         ],
         "y": [
          0.0038461538461538464,
          0.0038461538461538464,
          0.0038461538461538464,
          0.0038461538461538464,
          0.0030982905982905986,
          0.0030982905982905986,
          0.0030982905982905986,
          0.0023504273504273503,
          0.0030982905982905986,
          0.0038461538461538464,
          0.0030982905982905986,
          0.0030982905982905986,
          0.0030982905982905986,
          0.0030982905982905986,
          0.8466661244267544,
          0.8535334770216659,
          0.8687680344152785,
          0.8710449574922017,
          0.8795664581263006,
          0.8813188390786817
         ]
        },
        {
         "name": "non_iid_50_CESL-Random-3-5_45",
         "type": "scatter",
         "x": [
          3825,
          7650,
          11475,
          15300,
          19125,
          22950,
          26775,
          30600,
          34425,
          38250,
          42075,
          45900,
          49725,
          53550,
          57375,
          61200,
          65025,
          68850,
          72675,
          76500
         ],
         "y": [
          0.0038461538461538464,
          0.004594017094017094,
          0.0038461538461538464,
          0.0030982905982905986,
          0.0030982905982905986,
          0.0023504273504273503,
          0.0030982905982905986,
          0.0023504273504273503,
          0.0030982905982905986,
          0.0038461538461538464,
          0.0016025641025641025,
          0.0016025641025641025,
          0.0016025641025641025,
          0.0016025641025641025,
          0.8142897358109955,
          0.8437058726050852,
          0.867162606160244,
          0.8608826894889887,
          0.8775103485316084,
          0.8701398427469293
         ]
        },
        {
         "name": "non_iid_50_Only-Masked_35",
         "type": "scatter",
         "x": [
          3825,
          7650,
          11475,
          15300,
          19125,
          22950,
          26775,
          30600,
          34425,
          38250,
          42075,
          45900,
          49725,
          53550,
          57375,
          61200,
          65025,
          68850,
          72675,
          76500
         ],
         "y": [
          0.8610166928434646,
          0.8608902676501101,
          0.883288559472024,
          0.8760684105046309,
          0.8813192053790481,
          0.885065121143074,
          0.8768762679140633,
          0.8837297624510223,
          0.8753666931493704,
          0.8847141992740417,
          0.8801537646080954,
          0.8776295814421798,
          0.8808051663122528,
          0.8811220805441279,
          0.8833649352397384,
          0.8846126168669475,
          0.8795492395618381,
          0.8809637694763678,
          0.8809058915712459,
          0.8800151711805254
         ]
        },
        {
         "name": "non_iid_50_Only-Masked_15",
         "type": "scatter",
         "x": [
          3825,
          7650,
          11475,
          15300,
          19125,
          22950,
          26775,
          30600,
          34425,
          38250,
          42075,
          45900,
          49725,
          53550,
          57375,
          61200,
          65025,
          68850,
          72675,
          76500
         ],
         "y": [
          0.8615500261767979,
          0.8615140771739197,
          0.8829181125960653,
          0.8762826962189166,
          0.8821189611788036,
          0.8834916193168162,
          0.8762326131436368,
          0.8798136489057748,
          0.8732052780115772,
          0.8803896547022532,
          0.876523364124939,
          0.8807994251592678,
          0.8830344727888036,
          0.8813173186393659,
          0.8841406348681939,
          0.8837273934289682,
          0.8830687780286205,
          0.8822397157523142,
          0.8828013738667281,
          0.8841166412764837
         ]
        },
        {
         "name": "non_iid_50_CESL-Random-3-5_15",
         "type": "scatter",
         "x": [
          3825,
          7650,
          11475,
          15300,
          19125,
          22950,
          26775,
          30600,
          34425,
          38250,
          42075,
          45900,
          49725,
          53550,
          57375,
          61200,
          65025,
          68850,
          72675,
          76500
         ],
         "y": [
          0.004594017094017094,
          0.0038461538461538464,
          0.005341880341880342,
          0.004594017094017094,
          0.0030982905982905986,
          0.0023504273504273503,
          0.0038461538461538464,
          0.0030982905982905986,
          0.0023504273504273503,
          0.0030982905982905986,
          0.0030982905982905986,
          0.004594017094017094,
          0.0038461538461538464,
          0.0038461538461538464,
          0.8185669030881628,
          0.839185353666456,
          0.8681771385220205,
          0.8634207847270841,
          0.8745692081322002,
          0.8698360600903909
         ]
        },
        {
         "name": "non_iid_50_CESL-Random-3-5_35",
         "type": "scatter",
         "x": [
          3825,
          7650,
          11475,
          15300,
          19125,
          22950,
          26775,
          30600,
          34425,
          38250,
          42075,
          45900,
          49725,
          53550,
          57375,
          61200,
          65025,
          68850,
          72675,
          76500
         ],
         "y": [
          0.0038461538461538464,
          0.0038461538461538464,
          0.004594017094017094,
          0.0038461538461538464,
          0.0023504273504273503,
          0.0023504273504273503,
          0.0023504273504273503,
          0.0030982905982905986,
          0.0038461538461538464,
          0.004594017094017094,
          0.0030982905982905986,
          0.0030982905982905986,
          0.0023504273504273503,
          0.0023504273504273503,
          0.8151517111060418,
          0.8348992718567521,
          0.8695123009099387,
          0.8649942865533417,
          0.876748932170192,
          0.8723253128323994
         ]
        },
        {
         "name": "non_iid_50_CESL-3-5_45",
         "type": "scatter",
         "x": [
          3825,
          7650,
          11475,
          15300,
          19125,
          22950,
          26775,
          30600,
          34425,
          38250,
          42075,
          45900,
          49725,
          53550,
          57375,
          61200,
          65025,
          68850,
          72675,
          76500
         ],
         "y": [
          0.0038461538461538464,
          0.0038461538461538464,
          0.0038461538461538464,
          0.0038461538461538464,
          0.0030982905982905986,
          0.0030982905982905986,
          0.0023504273504273503,
          0.0023504273504273503,
          0.0023504273504273503,
          0.0030982905982905986,
          0.0016025641025641025,
          0.0016025641025641025,
          0.0016025641025641025,
          0.0016025641025641025,
          0.8370097645137016,
          0.8568522810522812,
          0.863195982495195,
          0.8675790909003507,
          0.8740913021361841,
          0.8743853131120847
         ]
        },
        {
         "name": "non_iid_50_CESL-3-5_35",
         "type": "scatter",
         "x": [
          3825,
          7650,
          11475,
          15300,
          19125,
          22950,
          26775,
          30600,
          34425,
          38250,
          42075,
          45900,
          49725,
          53550,
          57375,
          61200,
          65025,
          68850,
          72675,
          76500
         ],
         "y": [
          0.0038461538461538464,
          0.004700854700854701,
          0.00608974358974359,
          0.004594017094017094,
          0.0030982905982905986,
          0.0030982905982905986,
          0.0030982905982905986,
          0.0023504273504273503,
          0.0030982905982905986,
          0.0030982905982905986,
          0.0030982905982905986,
          0.0030982905982905986,
          0.0023504273504273503,
          0.0023504273504273503,
          0.8468350502515858,
          0.8685967886881274,
          0.8671528762576006,
          0.8790417307102345,
          0.8840077230730774,
          0.8751867267465693
         ]
        },
        {
         "name": "non_iid_50_Only-Masked_05",
         "type": "scatter",
         "x": [
          3825,
          7650,
          11475,
          15300,
          19125,
          22950,
          26775,
          30600,
          34425,
          38250,
          42075,
          45900,
          49725,
          53550,
          57375,
          61200,
          65025,
          68850,
          72675,
          76500
         ],
         "y": [
          0.8607833595101312,
          0.8605807438405864,
          0.8824314166148811,
          0.879468410504631,
          0.8820527853598719,
          0.8833601751704114,
          0.8750967267203489,
          0.881816213008339,
          0.8728045429635982,
          0.8825597450668317,
          0.8719323995339743,
          0.8767728048854033,
          0.8833668268739135,
          0.8829511428204342,
          0.8840020512296103,
          0.8812850295810926,
          0.8787452151523019,
          0.8826447243045669,
          0.8817537572663557,
          0.8825452151523019
         ]
        },
        {
         "name": "non_iid_50_CESL-3-5_05",
         "type": "scatter",
         "x": [
          3825,
          7650,
          11475,
          15300,
          19125,
          22950,
          26775,
          30600,
          34425,
          38250,
          42075,
          45900,
          49725,
          53550,
          57375,
          61200,
          65025,
          68850,
          72675,
          76500
         ],
         "y": [
          0.004594017094017094,
          0.0038461538461538464,
          0.005341880341880342,
          0.004594017094017094,
          0.0038461538461538464,
          0.0038461538461538464,
          0.0038461538461538464,
          0.0038461538461538464,
          0.0038461538461538464,
          0.0038461538461538464,
          0.0030982905982905986,
          0.0030982905982905986,
          0.0030982905982905986,
          0.004594017094017094,
          0.8460507361405,
          0.864057467554318,
          0.8726754205549483,
          0.87212340835018,
          0.881612059156941,
          0.863995564627848
         ]
        },
        {
         "name": "non_iid_50_CESL-Random-3-5_05",
         "type": "scatter",
         "x": [
          3825,
          7650,
          11475,
          15300,
          19125,
          22950,
          26775,
          30600,
          34425,
          38250,
          42075,
          45900,
          49725,
          53550,
          57375,
          61200,
          65025,
          68850,
          72675,
          76500
         ],
         "y": [
          0.0038461538461538464,
          0.0038461538461538464,
          0.004594017094017094,
          0.0038461538461538464,
          0.0038461538461538464,
          0.0030982905982905986,
          0.0038461538461538464,
          0.0030982905982905986,
          0.0038461538461538464,
          0.0038461538461538464,
          0.005341880341880342,
          0.005341880341880342,
          0.004594017094017094,
          0.005341880341880342,
          0.8146046952172936,
          0.8408810813858058,
          0.8672094901598839,
          0.8618451440073487,
          0.8780777502462541,
          0.8686918537280743
         ]
        },
        {
         "name": "non_iid_50_Only-Masked_25",
         "type": "scatter",
         "x": [
          3825,
          7650,
          11475,
          15300,
          19125,
          22950,
          26775,
          30600,
          34425,
          38250,
          42075,
          45900,
          49725,
          53550,
          57375,
          61200,
          65025,
          68850,
          72675,
          76500
         ],
         "y": [
          0.861245264272036,
          0.8592045533643958,
          0.8831073628908275,
          0.8756586424948629,
          0.8818630466646213,
          0.8843656119908088,
          0.8730043484948997,
          0.8824704230153049,
          0.873902591808891,
          0.882346797559396,
          0.8761712298200486,
          0.878844355556954,
          0.8815811125881993,
          0.8821894822587737,
          0.8849318485538958,
          0.8830509587525336,
          0.8839640161238587,
          0.8824214031812456,
          0.8812118793717219,
          0.8823311736382603
         ]
        },
        {
         "name": "non_iid_50_CESL-Random-3-5_25",
         "type": "scatter",
         "x": [
          3825,
          7650,
          11475,
          15300,
          19125,
          22950,
          26775,
          30600,
          34425,
          38250,
          42075,
          45900,
          49725,
          53550,
          57375,
          61200,
          65025,
          68850,
          72675,
          76500
         ],
         "y": [
          0.004594017094017094,
          0.0054487179487179484,
          0.005341880341880342,
          0.004594017094017094,
          0.0038461538461538464,
          0.0030982905982905986,
          0.0030982905982905986,
          0.0023504273504273503,
          0.0030982905982905986,
          0.004594017094017094,
          0.004594017094017094,
          0.0030982905982905986,
          0.0023504273504273503,
          0.0023504273504273503,
          0.8181728921122622,
          0.832959765431419,
          0.8646825753424178,
          0.8612253613403219,
          0.8754772569512728,
          0.8716080420891444
         ]
        },
        {
         "name": "non_iid_50_CESL-3-5_25",
         "type": "scatter",
         "x": [
          3825,
          7650,
          11475,
          15300,
          19125,
          22950,
          26775,
          30600,
          34425,
          38250,
          42075,
          45900,
          49725,
          53550,
          57375,
          61200,
          65025,
          68850,
          72675,
          76500
         ],
         "y": [
          0.0038461538461538464,
          0.0038461538461538464,
          0.0038461538461538464,
          0.0038461538461538464,
          0.0023504273504273503,
          0.0030982905982905986,
          0.0030982905982905986,
          0.0023504273504273503,
          0.0030982905982905986,
          0.0030982905982905986,
          0.0030982905982905986,
          0.0030982905982905986,
          0.0016025641025641025,
          0.0023504273504273503,
          0.841978089015097,
          0.8462754757927986,
          0.8694662679402837,
          0.8699027163562597,
          0.8750148674597493,
          0.8788964825201045
         ]
        }
       ],
       "layout": {
        "font": {
         "color": "Black",
         "family": "Times New Roman",
         "size": 14
        },
        "paper_bgcolor": "rgba(255,255,255,1)",
        "plot_bgcolor": "rgba(255,255,255,1)",
        "template": {},
        "title": {
         "text": ""
        },
        "xaxis": {
         "gridcolor": "LightGray",
         "linecolor": "black",
         "linewidth": 1,
         "mirror": true,
         "showgrid": true,
         "showline": true,
         "ticks": "outside",
         "title": {
          "text": "Training Steps"
         }
        },
        "yaxis": {
         "gridcolor": "LightGray",
         "linecolor": "black",
         "linewidth": 1,
         "mirror": true,
         "showgrid": true,
         "showline": true,
         "ticks": "outside",
         "title": {
          "text": "Per-Client Test Accuracy"
         }
        }
       }
      }
     },
     "metadata": {}
    }
   ],
   "metadata": {}
  },
  {
   "cell_type": "code",
   "execution_count": null,
   "source": [],
   "outputs": [],
   "metadata": {}
  }
 ],
 "metadata": {
  "interpreter": {
   "hash": "e421a1a8af5646f87d70a17bfa270bba6d5d537d21c369f9130f585305a91d93"
  },
  "kernelspec": {
   "name": "python3",
   "display_name": "Python 3.8.5 64-bit ('base': conda)"
  },
  "language_info": {
   "codemirror_mode": {
    "name": "ipython",
    "version": 3
   },
   "file_extension": ".py",
   "mimetype": "text/x-python",
   "name": "python",
   "nbconvert_exporter": "python",
   "pygments_lexer": "ipython3",
   "version": "3.8.5"
  }
 },
 "nbformat": 4,
 "nbformat_minor": 2
}